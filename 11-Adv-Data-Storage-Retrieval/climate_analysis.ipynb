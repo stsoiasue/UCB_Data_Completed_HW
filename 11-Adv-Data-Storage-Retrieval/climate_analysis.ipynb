{
 "cells": [
  {
   "cell_type": "code",
   "execution_count": 33,
   "metadata": {
    "collapsed": true
   },
   "outputs": [],
   "source": [
    "# Python SQL toolkit and Object Relational Mapper\n",
    "from sqlalchemy.ext.automap import automap_base\n",
    "from sqlalchemy.orm import Session\n",
    "from sqlalchemy import create_engine, func\n",
    "import pandas as pd\n",
    "import numpy as np\n",
    "import matplotlib.pyplot as plt\n",
    "\n",
    "from flask import Flask, jsonify\n",
    "\n",
    "from datetime import datetime\n",
    "from dateutil.relativedelta import relativedelta"
   ]
  },
  {
   "cell_type": "code",
   "execution_count": 2,
   "metadata": {
    "collapsed": true
   },
   "outputs": [],
   "source": [
    "# Create engine using the `hawaii.sqlite` database file\n",
    "engine = create_engine(\"sqlite:///hawaii.sqlite\")"
   ]
  },
  {
   "cell_type": "code",
   "execution_count": 3,
   "metadata": {
    "collapsed": true
   },
   "outputs": [],
   "source": [
    "# Declare a Base using `automap_base()`\n",
    "Base = automap_base()"
   ]
  },
  {
   "cell_type": "code",
   "execution_count": 4,
   "metadata": {
    "collapsed": true
   },
   "outputs": [],
   "source": [
    "# Use the Base class to reflect the database tables\n",
    "Base.prepare(engine, reflect=True)"
   ]
  },
  {
   "cell_type": "code",
   "execution_count": 5,
   "metadata": {},
   "outputs": [
    {
     "name": "stdout",
     "output_type": "stream",
     "text": [
      "['measurements', 'stations']\n"
     ]
    }
   ],
   "source": [
    "# Print all of the classes mapped to the Base\n",
    "print(Base.classes.keys())"
   ]
  },
  {
   "cell_type": "code",
   "execution_count": 6,
   "metadata": {},
   "outputs": [
    {
     "name": "stdout",
     "output_type": "stream",
     "text": [
      "[Column('id', INTEGER(), table=<stations>, primary_key=True, nullable=False), Column('station', VARCHAR(length=255), table=<stations>), Column('name', VARCHAR(length=255), table=<stations>), Column('latitude', FLOAT(), table=<stations>), Column('longitude', FLOAT(), table=<stations>), Column('elevation', FLOAT(), table=<stations>)]\n",
      "[Column('id', INTEGER(), table=<measurements>, primary_key=True, nullable=False), Column('station', VARCHAR(length=255), table=<measurements>), Column('date', DATETIME(), table=<measurements>), Column('prcp', FLOAT(), table=<measurements>), Column('tobs', FLOAT(), table=<measurements>)]\n"
     ]
    }
   ],
   "source": [
    "# Assign the stations class to a variable called `Station`\n",
    "Station = Base.classes.stations\n",
    "print(list(Station.__table__.columns))\n",
    "\n",
    "# Assign the measurements class to a variable called `Measurement`\n",
    "Measurement = Base.classes.measurements\n",
    "print(list(Measurement.__table__.columns))"
   ]
  },
  {
   "cell_type": "code",
   "execution_count": 7,
   "metadata": {
    "collapsed": true
   },
   "outputs": [],
   "source": [
    "# Create a session\n",
    "session = Session(engine)"
   ]
  },
  {
   "cell_type": "code",
   "execution_count": 8,
   "metadata": {},
   "outputs": [
    {
     "name": "stdout",
     "output_type": "stream",
     "text": [
      "there are 1267 rows of data\n"
     ]
    },
    {
     "data": {
      "text/html": [
       "<div>\n",
       "<style>\n",
       "    .dataframe thead tr:only-child th {\n",
       "        text-align: right;\n",
       "    }\n",
       "\n",
       "    .dataframe thead th {\n",
       "        text-align: left;\n",
       "    }\n",
       "\n",
       "    .dataframe tbody tr th {\n",
       "        vertical-align: top;\n",
       "    }\n",
       "</style>\n",
       "<table border=\"1\" class=\"dataframe\">\n",
       "  <thead>\n",
       "    <tr style=\"text-align: right;\">\n",
       "      <th></th>\n",
       "      <th>prcp</th>\n",
       "    </tr>\n",
       "    <tr>\n",
       "      <th>date</th>\n",
       "      <th></th>\n",
       "    </tr>\n",
       "  </thead>\n",
       "  <tbody>\n",
       "    <tr>\n",
       "      <th>2017-01-01</th>\n",
       "      <td>0.0</td>\n",
       "    </tr>\n",
       "    <tr>\n",
       "      <th>2017-01-02</th>\n",
       "      <td>0.0</td>\n",
       "    </tr>\n",
       "    <tr>\n",
       "      <th>2017-01-03</th>\n",
       "      <td>0.0</td>\n",
       "    </tr>\n",
       "    <tr>\n",
       "      <th>2017-01-04</th>\n",
       "      <td>0.0</td>\n",
       "    </tr>\n",
       "    <tr>\n",
       "      <th>2017-01-05</th>\n",
       "      <td>0.0</td>\n",
       "    </tr>\n",
       "  </tbody>\n",
       "</table>\n",
       "</div>"
      ],
      "text/plain": [
       "            prcp\n",
       "date            \n",
       "2017-01-01   0.0\n",
       "2017-01-02   0.0\n",
       "2017-01-03   0.0\n",
       "2017-01-04   0.0\n",
       "2017-01-05   0.0"
      ]
     },
     "execution_count": 8,
     "metadata": {},
     "output_type": "execute_result"
    }
   ],
   "source": [
    "# Precipitation Analysis\n",
    "\n",
    "# Query date and prcp from measurements for dats greater than 1/1/2017\n",
    "prcp_data_df = pd.read_sql(\"SELECT date, prcp FROM measurements WHERE date > '2017-01-01'\", engine, index_col='date')\n",
    "\n",
    "# reformat date to %Y-%m-%d format\n",
    "prcp_data_df.index = pd.to_datetime(prcp_data_df.index, format=\"%Y-%m-%d\")\n",
    "\n",
    "print(f'there are {len(prcp_data_df)} rows of data')\n",
    "prcp_data_df.head()"
   ]
  },
  {
   "cell_type": "code",
   "execution_count": 9,
   "metadata": {},
   "outputs": [
    {
     "data": {
      "image/png": "[encoded data removed]",
      "text/plain": [
       "<matplotlib.figure.Figure at 0x10cd40198>"
      ]
     },
     "metadata": {},
     "output_type": "display_data"
    }
   ],
   "source": [
    "# plot dataframe\n",
    "prcp_data_df.plot(figsize=(10, 7))\n",
    "\n",
    "# change fontsize of x and y ticks\n",
    "plt.xticks(fontsize=12)\n",
    "plt.yticks(fontsize=12)\n",
    "\n",
    "# add title and axis labels\n",
    "plt.title('Precipitation for Previous Year', fontsize=18)\n",
    "plt.xlabel('Date', fontsize=15)\n",
    "plt.ylabel('Inches', fontsize=15)\n",
    "\n",
    "plt.show()"
   ]
  },
  {
   "cell_type": "code",
   "execution_count": 10,
   "metadata": {},
   "outputs": [
    {
     "data": {
      "text/html": [
       "<div>\n",
       "<style>\n",
       "    .dataframe thead tr:only-child th {\n",
       "        text-align: right;\n",
       "    }\n",
       "\n",
       "    .dataframe thead th {\n",
       "        text-align: left;\n",
       "    }\n",
       "\n",
       "    .dataframe tbody tr th {\n",
       "        vertical-align: top;\n",
       "    }\n",
       "</style>\n",
       "<table border=\"1\" class=\"dataframe\">\n",
       "  <thead>\n",
       "    <tr style=\"text-align: right;\">\n",
       "      <th></th>\n",
       "      <th>prcp</th>\n",
       "    </tr>\n",
       "  </thead>\n",
       "  <tbody>\n",
       "    <tr>\n",
       "      <th>count</th>\n",
       "      <td>1267.000000</td>\n",
       "    </tr>\n",
       "    <tr>\n",
       "      <th>mean</th>\n",
       "      <td>0.165927</td>\n",
       "    </tr>\n",
       "    <tr>\n",
       "      <th>std</th>\n",
       "      <td>0.453913</td>\n",
       "    </tr>\n",
       "    <tr>\n",
       "      <th>min</th>\n",
       "      <td>0.000000</td>\n",
       "    </tr>\n",
       "    <tr>\n",
       "      <th>25%</th>\n",
       "      <td>0.000000</td>\n",
       "    </tr>\n",
       "    <tr>\n",
       "      <th>50%</th>\n",
       "      <td>0.000000</td>\n",
       "    </tr>\n",
       "    <tr>\n",
       "      <th>75%</th>\n",
       "      <td>0.105000</td>\n",
       "    </tr>\n",
       "    <tr>\n",
       "      <th>max</th>\n",
       "      <td>6.250000</td>\n",
       "    </tr>\n",
       "  </tbody>\n",
       "</table>\n",
       "</div>"
      ],
      "text/plain": [
       "              prcp\n",
       "count  1267.000000\n",
       "mean      0.165927\n",
       "std       0.453913\n",
       "min       0.000000\n",
       "25%       0.000000\n",
       "50%       0.000000\n",
       "75%       0.105000\n",
       "max       6.250000"
      ]
     },
     "execution_count": 10,
     "metadata": {},
     "output_type": "execute_result"
    }
   ],
   "source": [
    "# print summary stats\n",
    "prcp_data_df.describe()"
   ]
  },
  {
   "cell_type": "code",
   "execution_count": 11,
   "metadata": {},
   "outputs": [
    {
     "name": "stdout",
     "output_type": "stream",
     "text": [
      "There are 9 stations\n"
     ]
    }
   ],
   "source": [
    "# Station Analysis\n",
    "# Design a query to calculate the total number of stations.\n",
    "total_stations = (session\n",
    "                  .query(func.count(Station.name))\n",
    "                  .scalar())\n",
    "\n",
    "print(f'There are {total_stations} stations')"
   ]
  },
  {
   "cell_type": "code",
   "execution_count": 12,
   "metadata": {},
   "outputs": [
    {
     "name": "stdout",
     "output_type": "stream",
     "text": [
      "The 3 stations with the most activity are:\n",
      "\n",
      "Station Name: USC00519281\n",
      "Measurements: 2772\n",
      "\n",
      "Station Name: USC00513117\n",
      "Measurements: 2696\n",
      "\n",
      "Station Name: USC00519397\n",
      "Measurements: 2685\n",
      "\n",
      "The most active station is USC00519281\n"
     ]
    }
   ],
   "source": [
    "# Design a query to find the most active stations.\n",
    "most_active_stations = (session\n",
    "                        .query(Measurement.station, func.count(Measurement.station))\n",
    "                        .group_by(Measurement.station)\n",
    "                        .order_by(func.count(Measurement.station).desc())\n",
    "                        .limit(3)\n",
    "                        .all())\n",
    "\n",
    "print('The 3 stations with the most activity are:\\n')\n",
    "\n",
    "highest_measurement_count = 0\n",
    "most_active_station = None\n",
    "\n",
    "for station in most_active_stations:\n",
    "    \n",
    "    print(f'Station Name: {station[0]}\\nMeasurements: {station[1]}\\n')\n",
    "    \n",
    "    if station[1] > highest_measurement_count:\n",
    "        \n",
    "        most_active_station = station[0]\n",
    "        \n",
    "        highest_measurement_count = station[1]\n",
    "            \n",
    "print(f'The most active station is {most_active_station}')                "
   ]
  },
  {
   "cell_type": "code",
   "execution_count": 13,
   "metadata": {},
   "outputs": [
    {
     "data": {
      "image/png": "[encoded data removed]",
      "text/plain": [
       "<matplotlib.figure.Figure at 0x111d18160>"
      ]
     },
     "metadata": {},
     "output_type": "display_data"
    }
   ],
   "source": [
    "# retrieve the last 12 months of temperature observation data (tobs)\n",
    "tobs = (session\n",
    "        .query(Measurement.tobs)\n",
    "        .filter(Measurement.date > '2017-01-01'))\n",
    "\n",
    "# create numpy array to hold tobs values\n",
    "tob_values = []\n",
    "\n",
    "for tob in tobs:\n",
    "    \n",
    "    tob_values.append(tob[0])\n",
    "\n",
    "tob_values_array = np.array(tob_values)\n",
    "\n",
    "plt.figure(figsize=(10, 7))\n",
    "plt.hist(tob_values_array, bins=12)\n",
    "\n",
    "# change fontsize of x and y ticks\n",
    "plt.xticks(fontsize=12)\n",
    "plt.yticks(fontsize=12)\n",
    "\n",
    "# add title and axis labels\n",
    "plt.title('Temperatures for Previous Year', fontsize=18)\n",
    "plt.xlabel('Temperature', fontsize=15)\n",
    "plt.ylabel('Frequency', fontsize=15)\n",
    "\n",
    "plt.show()"
   ]
  },
  {
   "cell_type": "code",
   "execution_count": 40,
   "metadata": {
    "collapsed": true
   },
   "outputs": [],
   "source": [
    "# Temperature Analysis\n",
    "# function to calculate the minimum, average, and maximum temperatures for specified date range\n",
    "def calc_temps(start_date, end_date):\n",
    "    \n",
    "    converted_start_date = datetime.strptime(start_date, '%Y-%m-%d').date()\n",
    "    converted_end_date = datetime.strptime(end_date, '%Y-%m-%d').date()\n",
    "    \n",
    "    converted_start_date = converted_start_date - relativedelta(years=1)\n",
    "    converted_end_date = converted_end_date - relativedelta(years=1)     \n",
    "    \n",
    "    print(f'these are the temp stats for {start_date} to {end_date} last year:')\n",
    "    \n",
    "    # query for min temp\n",
    "    temp_min = (session\n",
    "                .query(func.min(Measurement.tobs))\n",
    "                .filter(Measurement.date >= converted_start_date)\n",
    "                .filter(Measurement.date <= converted_end_date)\n",
    "                .scalar())\n",
    "    \n",
    "    print(f'Min: {temp_min}')\n",
    "    \n",
    "    # query for max temp\n",
    "    temp_max = (session\n",
    "                .query(func.max(Measurement.tobs))\n",
    "                .filter(Measurement.date >= converted_start_date)\n",
    "                .filter(Measurement.date <= converted_end_date)\n",
    "                .scalar())  \n",
    "    \n",
    "    print(f'Max: {temp_max}')    \n",
    "    \n",
    "    # query for average temp\n",
    "    temp_avg = (session\n",
    "                .query(func.avg(Measurement.tobs))\n",
    "                .filter(Measurement.date >= converted_start_date)\n",
    "                .filter(Measurement.date <= converted_end_date)\n",
    "                .scalar())\n",
    "\n",
    "    print(f'Avg: {temp_avg}')\n",
    "    \n",
    "    # return dictionary of temp stats\n",
    "    return {'min': temp_min, 'max': temp_max, 'avg': temp_avg}"
   ]
  },
  {
   "cell_type": "code",
   "execution_count": 41,
   "metadata": {},
   "outputs": [
    {
     "name": "stdout",
     "output_type": "stream",
     "text": [
      "these are the temp stats for 2018-06-02 to 2018-06-18 last year:\n",
      "Min: 72.0\n",
      "Max: 83.0\n",
      "Avg: 77.27173913043478\n"
     ]
    }
   ],
   "source": [
    "# define trip start and trip end date\n",
    "trip_start = '2018-06-02'\n",
    "trip_end = '2018-06-18'\n",
    "\n",
    "# pull stats for trips dates in the previous year\n",
    "trip_stats = calc_temps(trip_start, trip_end)"
   ]
  },
  {
   "cell_type": "code",
   "execution_count": 42,
   "metadata": {},
   "outputs": [
    {
     "data": {
      "image/png": "[encoded data removed]",
      "text/plain": [
       "<matplotlib.figure.Figure at 0x1161c66a0>"
      ]
     },
     "metadata": {},
     "output_type": "display_data"
    }
   ],
   "source": [
    "# plot previous year stats on bar plot\n",
    "plt.figure(figsize=(10, 7))\n",
    "plt.bar(0, trip_stats['avg'], yerr=(trip_stats['max']-trip_stats['min']))\n",
    "\n",
    "# change fontsize of x and y ticks\n",
    "plt.xticks(fontsize=12)\n",
    "plt.yticks(fontsize=12)\n",
    "\n",
    "# add title and axis labels\n",
    "plt.title('Temperature range for Trip dates from previous year', fontsize=18)\n",
    "plt.ylabel('Temperature', fontsize=15)\n",
    "\n",
    "plt.show()"
   ]
  },
  {
   "cell_type": "code",
   "execution_count": null,
   "metadata": {
    "collapsed": true
   },
   "outputs": [],
   "source": []
  }
 ],
 "metadata": {
  "kernelspec": {
   "display_name": "Python 3",
   "language": "python",
   "name": "python3"
  },
  "language_info": {
   "codemirror_mode": {
    "name": "ipython",
    "version": 3
   },
   "file_extension": ".py",
   "mimetype": "text/x-python",
   "name": "python",
   "nbconvert_exporter": "python",
   "pygments_lexer": "ipython3",
   "version": "3.6.2"
  }
 },
 "nbformat": 4,
 "nbformat_minor": 2
}
